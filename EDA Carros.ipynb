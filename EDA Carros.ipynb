{
 "cells": [
  {
   "cell_type": "markdown",
   "id": "c520772c-8918-4c06-95bb-54ed58fa3845",
   "metadata": {},
   "source": [
    "<h1 style = 'color:#BD3737; text-align: center; font-weight: bold'>Universidad Castro Carazo</h1>\n",
    "<h5 style = 'color:#942222; text-align: center'>Análisis de Datos</h5>\n",
    "<center> <img src = 'carro-deportivo.png'> <center>\n",
    "</br>\n",
    "<p style = 'text-align: justify; font-family: Tahoma'>El análisis de datos es un proceso sistemático y metódico que implica la recopilación, organización, interpretación y visualización de conjuntos de datos con el objetivo de extraer información significativa y relevante. Este proceso utiliza herramientas, tecnologías y procesos para encontrar tendencias y resolver problemas mediante datos.</p>"
   ]
  },
  {
   "cell_type": "markdown",
   "id": "e8582d3d-0b12-4e36-908d-b427abc9b020",
   "metadata": {},
   "source": [
    "<table>\n",
    "  <tr>\n",
    "    <td> <img src = boton-de-informacion.png> </td>\n",
    "    <td>Repositorio UCI del set de datos </td>\n",
    "    <td> <a href = 'https://archive.ics.uci.edu/dataset/10/automobile'>Enlace al sitio web</a> </td>\n",
    "  </tr>\n",
    "  <tr>\n",
    "    <td> <img src = pantone.png> </td>\n",
    "    <td>Paleta de colores </td>\n",
    "    <td> <a href = 'https://paletadecolores.com.mx/paleta/942222/bd3737/d4cdad/98c3a1/25857d/'>Enlace al sitio web</a> </td>\n",
    "  </tr>\n",
    "</table>"
   ]
  },
  {
   "cell_type": "markdown",
   "id": "cf422807-8f3d-456d-8aae-9d7da14ea1f9",
   "metadata": {},
   "source": [
    "<h2 Style = \"color:  #a8c4a2 \">1. Carga y estandarizacion de los set de datos</h2>\n",
    " \n",
    "<ul>\n",
    "<li style=\"font-family: Tahoma\">Instalar e importar las librerias necesarias para trabajar</li>\n",
    "<li style=\"font-family: Tahoma\">Importar los archivos csv (Set de Datos)</li>\n",
    "<li style=\"font-family: Tahoma\">Revison de los set de datos (encabezados)</li>\n",
    "<li style=\"font-family: Tahoma\">Generar un unico set de datos</li>\n",
    "</ul>\n",
    " \n",
    "<h4 style=\"color:#616382; font-family: Tahoma\"> 1.1) Instalar e importar las librerias necesarias para trabajar </h4>"
   ]
  },
  {
   "cell_type": "code",
   "execution_count": null,
   "id": "c36d8fe8-f268-41d8-bc63-fac839d2121f",
   "metadata": {},
   "outputs": [],
   "source": []
  }
 ],
 "metadata": {
  "kernelspec": {
   "display_name": "Python 3 (ipykernel)",
   "language": "python",
   "name": "python3"
  },
  "language_info": {
   "codemirror_mode": {
    "name": "ipython",
    "version": 3
   },
   "file_extension": ".py",
   "mimetype": "text/x-python",
   "name": "python",
   "nbconvert_exporter": "python",
   "pygments_lexer": "ipython3",
   "version": "3.12.9"
  }
 },
 "nbformat": 4,
 "nbformat_minor": 5
}
